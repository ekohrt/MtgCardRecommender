{
 "cells": [
  {
   "cell_type": "markdown",
   "metadata": {},
   "source": [
    "# Recommending Cards for Magic: the Gathering Deckbuilding \n",
    "\n",
    "*Goal: input a card name and find other cards that often appear together with that card, and use this system to generate a deck.*\n",
    "\n",
    "This program uses a file derived from ~10,000 modern decks made by users on deckstats.net. For every card 'x', a count was kept of every other card 'y' that occurred in the same deck as 'x'. Then, all counts were divided by the total number of decks containining card 'x': this results in the percent of decks containing card 'x' that also contained card 'y'. The resuting JSON file is a dictionary containing an entry for every card; each card's entry is a dictionary of card co-occurrences.\n",
    "\n",
    "Note: this dataset was collected on December 27 2021, so cards from sets released after this date are not recognized. Also, cards that are not commonly used might register as invalid because they did not occur in the dataset. Card names are case-sensitive.\n",
    "\n",
    "Thanks for checking out this project!"
   ]
  },
  {
   "cell_type": "markdown",
   "metadata": {},
   "source": [
    "## Setup\n",
    "\n",
    "First, load the .JSON file of card co-occurrences into a dictionary. We will use the 'printFreqs' method to show us card co-occurrences."
   ]
  },
  {
   "cell_type": "code",
   "execution_count": 1,
   "metadata": {},
   "outputs": [],
   "source": [
    "import json\n",
    "import sys\n",
    "stdout = sys.stdout"
   ]
  },
  {
   "cell_type": "code",
   "execution_count": 2,
   "metadata": {},
   "outputs": [],
   "source": [
    "#load frequency dict for card co-occurrences\n",
    "with open('fixedCardFreqs_deckstatsModern.json', 'r', encoding=\"utf-8\") as freqsFile:\n",
    "    freqDict = json.load(freqsFile)\n",
    "    \n",
    "#for filtering out lands when needed\n",
    "with open('allLands.json', 'r', encoding='utf-8') as landFile:\n",
    "    landFilter = json.load(landFile)\n",
    "\n",
    "sys.stdout = stdout #tries to fix a weird printing bug: https://stackoverflow.com/a/65185107/14968857"
   ]
  },
  {
   "cell_type": "code",
   "execution_count": 3,
   "metadata": {},
   "outputs": [],
   "source": [
    "#prints the n cards that most frequently occur in decks containing the given card\n",
    "def printFreqs(str_cardName, n):\n",
    "    #sort items by value in the entry for cardName and get the top 20\n",
    "    example_freqs1 = freqDict[str_cardName]\n",
    "    example_closestCards1 = sorted(example_freqs1.items(), key=lambda x: x[1], reverse=True)\n",
    "    example_results1 = example_closestCards1[:n]\n",
    "\n",
    "    #print the results\n",
    "    print(\"These cards occur most frequently with \\\"\" + str_cardName + \"\\\":\")\n",
    "    for card in example_results1:\n",
    "        print(card[0] + \" : \" + card[1])"
   ]
  },
  {
   "cell_type": "markdown",
   "metadata": {},
   "source": [
    "## Example 1: Urza's Mine\n",
    "\n",
    "As an example, we will find the 20 cards that most commonly occur with the card \"**Urza's Mine**.\" \n",
    "\n",
    "You will see that 99% of decks with \"**Urza's Mine**\" also contain \"**Urza's Tower**\" and \"**Urza's Tower**\", since the three always appear together. \"**Expedition Map**\" appears in 93% of decks, \"**Karn, the Great Creator**\" appears 54% of the time, and so on."
   ]
  },
  {
   "cell_type": "code",
   "execution_count": 4,
   "metadata": {},
   "outputs": [
    {
     "name": "stdout",
     "output_type": "stream",
     "text": [
      "These cards occur most frequently with \"Urza's Mine\":\n",
      "Urza's Mine : 1.0000\n",
      "Urza's Power Plant : 0.9969\n",
      "Urza's Tower : 0.9969\n",
      "Expedition Map : 0.9317\n",
      "Karn, the Great Creator : 0.5435\n",
      "Walking Ballista : 0.4348\n",
      "Sylvan Scrying : 0.4161\n",
      "Ancient Stirrings : 0.4068\n",
      "Chromatic Star : 0.4068\n",
      "Chromatic Sphere : 0.4006\n",
      "Wurmcoil Engine : 0.3913\n",
      "Ugin, the Ineffable : 0.3634\n",
      "Ugin, the Spirit Dragon : 0.3571\n",
      "Forest : 0.3509\n",
      "Karn Liberated : 0.3385\n",
      "Thought-Knot Seer : 0.3261\n",
      "Ulamog, the Ceaseless Hunger : 0.2795\n",
      "Eldrazi Temple : 0.2702\n",
      "Oblivion Stone : 0.2640\n",
      "Reality Smasher : 0.2640\n"
     ]
    }
   ],
   "source": [
    "#Example 1: find the cards that most frequently occur with \"Urza's Mine\"\n",
    "printFreqs(\"Urza's Mine\", 20)"
   ]
  },
  {
   "cell_type": "markdown",
   "metadata": {},
   "source": [
    "## Example 2: Monastery Swiftspear\n",
    "\n",
    "Shows the 20 cards that most commonly occur with \"**Monastery Swiftspear**.\" Notice that a semi-coherent burn deck could be made just by sampling from the top results."
   ]
  },
  {
   "cell_type": "code",
   "execution_count": 5,
   "metadata": {},
   "outputs": [
    {
     "name": "stdout",
     "output_type": "stream",
     "text": [
      "These cards occur most frequently with \"Monastery Swiftspear\":\n",
      "Monastery Swiftspear : 1.0000\n",
      "Lightning Bolt : 0.9617\n",
      "Mountain : 0.8445\n",
      "Lava Spike : 0.4809\n",
      "Soul-Scar Mage : 0.4474\n",
      "Light Up the Stage : 0.4187\n",
      "Lava Dart : 0.3828\n",
      "Rift Bolt : 0.3684\n",
      "Bloodstained Mire : 0.3660\n",
      "Manamorphose : 0.3517\n",
      "Sunbaked Canyon : 0.3445\n",
      "Skewer the Critics : 0.3397\n",
      "Wooded Foothills : 0.3014\n",
      "Mutagenic Growth : 0.2775\n",
      "Goblin Guide : 0.2727\n",
      "Eidolon of the Great Revel : 0.2679\n",
      "Fiery Islet : 0.2488\n",
      "Bedlam Reveler : 0.2416\n",
      "Seal of Fire : 0.2249\n",
      "Sacred Foundry : 0.2249\n"
     ]
    }
   ],
   "source": [
    "#Example 2: find the cards that most frequently occur with \"Monastery Swiftspear\" \n",
    "printFreqs(\"Monastery Swiftspear\", 20)"
   ]
  },
  {
   "cell_type": "markdown",
   "metadata": {},
   "source": [
    "## Limits of the Dataset\n",
    "\n",
    "Here we try to find the 20 most commonly co-occurring cards with \"**Elite Vanguard**,\" but since there was only one (mediocre) deck in the dataset that contained the input card, the output is weak and unhelpful.\n"
   ]
  },
  {
   "cell_type": "code",
   "execution_count": 6,
   "metadata": {},
   "outputs": [
    {
     "name": "stdout",
     "output_type": "stream",
     "text": [
      "These cards occur most frequently with \"Elite Vanguard\":\n",
      "Angel's Feather : 1.0000\n",
      "Angelic Wall : 1.0000\n",
      "Elite Vanguard : 1.0000\n",
      "Gideon's Avenger : 1.0000\n",
      "Gideon's Lawkeeper : 1.0000\n",
      "Plains : 1.0000\n"
     ]
    }
   ],
   "source": [
    "#Example 3: find cards that most frequently occur with \"Elite Vanguard\". The dataset contains only one occurrence of this card. \n",
    "printFreqs(\"Elite Vanguard\", 20)"
   ]
  },
  {
   "cell_type": "markdown",
   "metadata": {},
   "source": [
    "## Simple Deck Generating Algorithm\n",
    "\n",
    "Here is a very simplified algorithm to construct a coherent deck given some starting cards. First, we put all co-occurring cards in a sorted list and add 4x of the top card to the final deck. Then, we put all of the newly added card's co-occurring cards to the list, sort it, and again add 4x of the top card to the final deck. Repeat until 36 cards have been added, then add 24 lands.\n",
    "\n",
    "More nuance could be added later, like distinguishing between lands and non-lands, matching colors, using randomness in the selection process for variety, implementing a mana curve, prioritizing cards that co-occur with multiple cards in the deck, etc. but for now we keep it simple.\n",
    "\n",
    "Let's try to generate a lifegain-themed deck, starting with **\"Ajani's Pridemate\"**:"
   ]
  },
  {
   "cell_type": "markdown",
   "metadata": {},
   "source": [
    "Before we generate the deck, let's see what cards co-occur with **\"Ajani's Pridemate\"**: some of these (but not all) will appear in the final deck."
   ]
  },
  {
   "cell_type": "code",
   "execution_count": 7,
   "metadata": {},
   "outputs": [
    {
     "name": "stdout",
     "output_type": "stream",
     "text": [
      "These cards occur most frequently with \"Ajani's Pridemate\":\n",
      "Ajani's Pridemate : 1.0000\n",
      "Plains : 0.9531\n",
      "Soul Warden : 0.5469\n",
      "Soul's Attendant : 0.3828\n",
      "Path to Exile : 0.3281\n",
      "Swamp : 0.2656\n",
      "Serra Ascendant : 0.2500\n",
      "Heliod, Sun-Crowned : 0.2109\n",
      "Healer's Hawk : 0.1953\n",
      "Ajani's Welcome : 0.1797\n",
      "Speaker of the Heavens : 0.1719\n",
      "Martyr of Sands : 0.1719\n",
      "Bloodthirsty Aerialist : 0.1719\n",
      "Ajani, Strength of the Pride : 0.1484\n",
      "Regal Caracal : 0.1484\n",
      "Scoured Barrens : 0.1406\n",
      "Honor of the Pure : 0.1406\n",
      "Spectral Procession : 0.1328\n",
      "Linden, the Steadfast Queen : 0.1250\n",
      "Daxos, Blessed by the Sun : 0.1172\n"
     ]
    }
   ],
   "source": [
    "printFreqs(\"Ajani's Pridemate\", 20)"
   ]
  },
  {
   "cell_type": "markdown",
   "metadata": {},
   "source": [
    "Now let's generate the deck. \n",
    "\n",
    "Remember, the card pool changes each time we add a card to the deck. The output shows each card picked, as well as the \"origin card\" that produced that card pick"
   ]
  },
  {
   "cell_type": "code",
   "execution_count": 8,
   "metadata": {},
   "outputs": [
    {
     "name": "stdout",
     "output_type": "stream",
     "text": [
      "Picked Soul Warden : ('0.5469', \"Ajani's Pridemate\")\n",
      "Picked Soul's Attendant : ('0.6250', 'Soul Warden')\n",
      "Picked Path to Exile : ('0.5495', \"Soul's Attendant\")\n",
      "Picked Serra Ascendant : ('0.3736', \"Soul's Attendant\")\n",
      "Picked Martyr of Sands : ('0.6143', 'Serra Ascendant')\n",
      "Picked Squadron Hawk : ('0.5769', 'Martyr of Sands')\n",
      "Picked Speaker of the Heavens : ('0.4808', 'Martyr of Sands')\n",
      "Picked Spectral Procession : ('0.3617', 'Squadron Hawk')\n",
      "\n",
      "FINAL DECK: \n",
      "4 Ajani's Pridemate\n",
      "4 Soul Warden\n",
      "4 Soul's Attendant\n",
      "4 Path to Exile\n",
      "4 Serra Ascendant\n",
      "4 Martyr of Sands\n",
      "4 Squadron Hawk\n",
      "4 Speaker of the Heavens\n",
      "4 Spectral Procession\n",
      "24 Lands\n"
     ]
    }
   ],
   "source": [
    "#Picks the n best cards to add to the input deck, starting with the given initial list of card names\n",
    "def completeDeck(inputDeckList, n):\n",
    "    #start off by putting the given cards in the decklist\n",
    "    deckList = inputDeckList\n",
    "    \n",
    "    cardPoolDict = {}\n",
    "    \n",
    "    #keep adding cards until you reach the desired amount\n",
    "    while len(deckList) < n:\n",
    "        \n",
    "        #Combine the co-occurrence dicts of each card in the current decklist, keeping highest values, then sort it.\n",
    "        for card in deckList:\n",
    "            cardPoolDict = mergeDictsKeepHighest(cardPoolDict, convertToDictOfTuples(freqDict[card], card))\n",
    "        closestCards = sorted(cardPoolDict.items(), key=lambda x: x[1], reverse=True)    \n",
    "        \n",
    "        #Add the top card in the cardpool to our decklist (If it's already in the deck, just pick the next one)\n",
    "        for pick in closestCards:\n",
    "            if pick[0] not in deckList and pick[0] not in landFilter: #filter out lands; add additional/better filters here.\n",
    "                deckList.append(pick[0])\n",
    "                print(\"Picked \" + pick[0] + \" : \" + str(pick[1]))\n",
    "                #cycle back after we pick one card so that this card choice can influence the next one\n",
    "                break\n",
    "    \n",
    "    #print the final deck            \n",
    "    print(\"\\nFINAL DECK: \")\n",
    "    for cardName in deckList: \n",
    "        print(\"4 \" + cardName)\n",
    "    print(\"24 Lands\") #too lazy to check colors    \n",
    "    \n",
    "    #return the final list\n",
    "    return deckList\n",
    "\n",
    "\n",
    "#Helper: to track the 'origin card' responsible for our picks, we need to add this card to each entry in our co-occ. freq dict\n",
    "# The result is a dict of the format {str_cardName : (flt_freq, str_originCardName)}\n",
    "def convertToDictOfTuples(fDict, str_originCard):\n",
    "    return {key : (fDict[key], str_originCard) for key in fDict}\n",
    "\n",
    "\n",
    "#Helper: merges our two dictionaries, keeping highest values when keys are the same\n",
    "def mergeDictsKeepHighest(dict1, dict2):\n",
    "    return {k: dict1[k] if float(dict1.get(k, (0.0, \"NONE\"))[0]) >= float(dict2.get(k, (0.0, \"NONE\"))[0]) else dict2[k] \n",
    "            for k in set(dict1) | set(dict2)}\n",
    "\n",
    "\n",
    "#generate and print the final deck\n",
    "lifegainDeck = completeDeck([\"Ajani's Pridemate\"], 9)"
   ]
  },
  {
   "cell_type": "markdown",
   "metadata": {},
   "source": [
    "Not a bad deck at all!\n",
    "\n",
    "Observe how each card we add influences the next picks; \n",
    "    First, '**Soul Warden**' was chosen for its co-occurrence with '**Ajani's Pridemate**'. \n",
    "    Then '**Soul's Attendent**' was chosen for its co-occurrence with '**Soul Warden**', and so on.\n",
    "\n",
    "Notice that the first 4 picks are all near the top of the original co-occurrences with '**Ajani's Pridemate**' (**Soul Warden**, **Soul's Attendant**, **Path to Exile**, and **Serra Ascendant**) but the subsequent picks are further down on this list, or not on it at all. We only picked '**Squadron hawk**' and '**Speaker of the Heavens**' because of their high co-occurrence with '**Martyr of Sands**'. \n",
    "\n",
    "This algorithm helps ensure that synergies exist between other cards besides just the input cards."
   ]
  },
  {
   "cell_type": "markdown",
   "metadata": {},
   "source": [
    "#### Some More Decks (for fun):"
   ]
  },
  {
   "cell_type": "code",
   "execution_count": 9,
   "metadata": {},
   "outputs": [
    {
     "name": "stdout",
     "output_type": "stream",
     "text": [
      "Picked Lightning Bolt : ('0.9917', 'Lava Spike')\n",
      "Picked Monastery Swiftspear : ('0.8340', 'Lava Spike')\n",
      "Picked Rift Bolt : ('0.6556', 'Lava Spike')\n",
      "Picked Skewer the Critics : ('0.7717', 'Rift Bolt')\n",
      "Picked Eidolon of the Great Revel : ('0.6250', 'Rift Bolt')\n",
      "Picked Goblin Guide : ('0.7222', 'Eidolon of the Great Revel')\n",
      "Picked Boros Charm : ('0.5952', 'Eidolon of the Great Revel')\n",
      "Picked Lightning Helix : ('0.6382', 'Boros Charm')\n",
      "\n",
      "FINAL DECK: \n",
      "4 Lava Spike\n",
      "4 Lightning Bolt\n",
      "4 Monastery Swiftspear\n",
      "4 Rift Bolt\n",
      "4 Skewer the Critics\n",
      "4 Eidolon of the Great Revel\n",
      "4 Goblin Guide\n",
      "4 Boros Charm\n",
      "4 Lightning Helix\n",
      "24 Lands\n"
     ]
    }
   ],
   "source": [
    "#Burn\n",
    "burnDeck = completeDeck([\"Lava Spike\"], 9)"
   ]
  },
  {
   "cell_type": "code",
   "execution_count": 10,
   "metadata": {},
   "outputs": [
    {
     "name": "stdout",
     "output_type": "stream",
     "text": [
      "Picked Treefolk Harbinger : ('0.7619', 'Doran, the Siege Tower')\n",
      "Picked Timber Protector : ('0.7857', 'Treefolk Harbinger')\n",
      "Picked Leaf-Crowned Elder : ('1.0000', 'Timber Protector')\n",
      "Picked Dauntless Dourbark : ('0.9091', 'Timber Protector')\n",
      "Picked Bosk Banneret : ('0.9091', 'Timber Protector')\n",
      "Picked Dungrove Elder : ('0.7619', 'Dauntless Dourbark')\n",
      "Picked Path to Exile : ('0.3810', 'Doran, the Siege Tower')\n",
      "Picked Assault Formation : ('0.3810', 'Doran, the Siege Tower')\n",
      "\n",
      "FINAL DECK: \n",
      "4 Doran, the Siege Tower\n",
      "4 Treefolk Harbinger\n",
      "4 Timber Protector\n",
      "4 Leaf-Crowned Elder\n",
      "4 Dauntless Dourbark\n",
      "4 Bosk Banneret\n",
      "4 Dungrove Elder\n",
      "4 Path to Exile\n",
      "4 Assault Formation\n",
      "24 Lands\n"
     ]
    }
   ],
   "source": [
    "#Treefolk\n",
    "treefolkDeck = completeDeck([\"Doran, the Siege Tower\"], 9)"
   ]
  },
  {
   "cell_type": "code",
   "execution_count": 12,
   "metadata": {},
   "outputs": [
    {
     "name": "stdout",
     "output_type": "stream",
     "text": [
      "Picked Manamorphose : ('0.8254', 'Grapeshot')\n",
      "Picked Pyretic Ritual : ('0.7778', 'Grapeshot')\n",
      "Picked Desperate Ritual : ('0.8257', 'Pyretic Ritual')\n",
      "Picked Serum Visions : ('0.7460', 'Grapeshot')\n",
      "Picked Past in Flames : ('0.7302', 'Grapeshot')\n",
      "Picked Goblin Electromancer : ('0.7857', 'Past in Flames')\n",
      "Picked Gifts Ungiven : ('0.7679', 'Past in Flames')\n",
      "Picked Opt : ('0.7679', 'Past in Flames')\n",
      "\n",
      "FINAL DECK: \n",
      "4 Grapeshot\n",
      "4 Manamorphose\n",
      "4 Pyretic Ritual\n",
      "4 Desperate Ritual\n",
      "4 Serum Visions\n",
      "4 Past in Flames\n",
      "4 Goblin Electromancer\n",
      "4 Gifts Ungiven\n",
      "4 Opt\n",
      "24 Lands\n"
     ]
    }
   ],
   "source": [
    "#Storm (not the best but still okay)\n",
    "stormDeck = completeDeck([\"Grapeshot\"], 9)"
   ]
  },
  {
   "cell_type": "markdown",
   "metadata": {},
   "source": [
    "## Thanks for Viewing!"
   ]
  }
 ],
 "metadata": {
  "kernelspec": {
   "display_name": "Python 3",
   "language": "python",
   "name": "python3"
  },
  "language_info": {
   "codemirror_mode": {
    "name": "ipython",
    "version": 3
   },
   "file_extension": ".py",
   "mimetype": "text/x-python",
   "name": "python",
   "nbconvert_exporter": "python",
   "pygments_lexer": "ipython3",
   "version": "3.7.4"
  }
 },
 "nbformat": 4,
 "nbformat_minor": 2
}
