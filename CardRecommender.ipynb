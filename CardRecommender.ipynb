{
 "cells": [
  {
   "cell_type": "markdown",
   "metadata": {},
   "source": [
    "# Recommending Cards for Magic: the Gathering Deckbuilding \n",
    "\n",
    "Input a card name and find other cards that often appear together with that card.\n",
    "\n",
    "This program uses a file derived from ~10,000 modern decks made by users on deckstats.net. For every card 'x', a count was kept of every other card 'y' that occurred in the same deck as 'x'. Then, all counts were divided by the total number of decks containining card 'x': this results in the percent of decks containing card 'x' that also contained card 'y'. The resuting JSON file is a dictionary containing an entry for every card; each card's entry is a dictionary of card co-occurrences.\n",
    "\n",
    "Note: this dataset was collected on December 27 2021, so cards from sets released after this date are not recognized. Also, cards that are not commonly used might register as invalid because they did not occur in the dataset. Card names are case-sensitive.\n",
    "\n",
    "Thanks for checking out this project!"
   ]
  },
  {
   "cell_type": "markdown",
   "metadata": {},
   "source": [
    "## Setup\n",
    "\n",
    "First, load the .JSON file of card co-occurrences into a dictionary."
   ]
  },
  {
   "cell_type": "code",
   "execution_count": 1,
   "metadata": {},
   "outputs": [],
   "source": [
    "import json\n",
    "import sys\n",
    "stdout = sys.stdout"
   ]
  },
  {
   "cell_type": "code",
   "execution_count": 2,
   "metadata": {},
   "outputs": [],
   "source": [
    "#load frequency dict for card co-occurrences\n",
    "filepath = 'fixedCardFreqs_deckstatsModern.json'\n",
    "with open(filepath, encoding=\"utf8\") as freqsFile:\n",
    "    freqDict = json.load(freqsFile)\n",
    "    \n",
    "sys.stdout = stdout #tries to fix a weird printing bug: https://stackoverflow.com/a/65185107/14968857"
   ]
  },
  {
   "cell_type": "markdown",
   "metadata": {},
   "source": [
    "## Example: Urza's Mine\n",
    "\n",
    "As an example, we will find the 20 cards that most commonly occur with the card \"Urza's Mine.\" \n",
    "\n",
    "You will see that 99% of decks with \"Urza's Mine\" also contain \"Urza's Tower\" and \"Urza's Tower\", since the three always appear together. \"Expedition Map\" appears in 93% of decks, \"Karn, the Great Creator\" appears 54% of the time, and so on.\n",
    "\n"
   ]
  },
  {
   "cell_type": "code",
   "execution_count": 3,
   "metadata": {},
   "outputs": [
    {
     "name": "stdout",
     "output_type": "stream",
     "text": [
      "These cards occur most frequently with \"Urza's Mine\":\n",
      "Urza's Mine : 1.0000\n",
      "Urza's Power Plant : 0.9969\n",
      "Urza's Tower : 0.9969\n",
      "Expedition Map : 0.9317\n",
      "Karn, the Great Creator : 0.5435\n",
      "Walking Ballista : 0.4348\n",
      "Sylvan Scrying : 0.4161\n",
      "Ancient Stirrings : 0.4068\n",
      "Chromatic Star : 0.4068\n",
      "Chromatic Sphere : 0.4006\n",
      "Wurmcoil Engine : 0.3913\n",
      "Ugin, the Ineffable : 0.3634\n",
      "Ugin, the Spirit Dragon : 0.3571\n",
      "Forest : 0.3509\n",
      "Karn Liberated : 0.3385\n",
      "Thought-Knot Seer : 0.3261\n",
      "Ulamog, the Ceaseless Hunger : 0.2795\n",
      "Eldrazi Temple : 0.2702\n",
      "Oblivion Stone : 0.2640\n",
      "Reality Smasher : 0.2640\n"
     ]
    }
   ],
   "source": [
    "#Example: find the cards that most frequently occur with \"Urza's Mine\"\n",
    "\n",
    "#sort items by value in the entry for \"Urza's Mine\" and get the top 20\n",
    "example_freqs = freqDict[\"Urza's Mine\"]\n",
    "example_closestCards = sorted(example_freqs.items(), key=lambda x: x[1], reverse=True)\n",
    "example_results = example_closestCards[:20]\n",
    "\n",
    "#print the results\n",
    "print(\"These cards occur most frequently with \\\"Urza's Mine\\\":\")\n",
    "for card in example_results:\n",
    "    print(card[0] + \" : \" + card[1])"
   ]
  },
  {
   "cell_type": "markdown",
   "metadata": {},
   "source": [
    "## Input a Card\n",
    "\n",
    "Run this snippet to type in a card name of your choice and see the top 50 cards that co-occur with it."
   ]
  },
  {
   "cell_type": "code",
   "execution_count": null,
   "metadata": {},
   "outputs": [],
   "source": [
    "#get valid card name from user\n",
    "inputCard = input(\"Enter a card name (case sensitive): \")\n",
    "while inputCard not in freqDict.keys():\n",
    "    print(\"Error: Invalid card name - OR - Card not recognized in dataset\")\n",
    "    inputCard = input(\"Enter a card name (case sensitive): \")\n",
    "\n",
    "#get card co-occurrences from the json file we loaded\n",
    "freqs = freqDict[inputCard]\n",
    "\n",
    "#sort this dictionary by value and get the top 50\n",
    "closestCards = sorted(freqs.items(), key=lambda x: x[1], reverse=True)\n",
    "results = closestCards[:50]\n",
    "\n",
    "#print the results\n",
    "print(\"These cards occur most frequently with \\\"\" + inputCard + \"\\\":\\n\")\n",
    "for card in results:\n",
    "    print(card[0] + \" : \" + card[1])"
   ]
  }
 ],
 "metadata": {
  "kernelspec": {
   "display_name": "Python 3",
   "language": "python",
   "name": "python3"
  },
  "language_info": {
   "codemirror_mode": {
    "name": "ipython",
    "version": 3
   },
   "file_extension": ".py",
   "mimetype": "text/x-python",
   "name": "python",
   "nbconvert_exporter": "python",
   "pygments_lexer": "ipython3",
   "version": "3.7.4"
  }
 },
 "nbformat": 4,
 "nbformat_minor": 2
}
